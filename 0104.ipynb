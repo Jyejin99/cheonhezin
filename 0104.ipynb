{
 "cells": [
  {
   "cell_type": "code",
   "execution_count": 5,
   "id": "e898e8f1",
   "metadata": {},
   "outputs": [
    {
     "name": "stdout",
     "output_type": "stream",
     "text": [
      "경기장은 어디입니까?수원\n",
      "이긴 팀은 어디입니까?피닉스\n",
      "진 팀은 어디입니까?레전드\n",
      "우수선수는 누구입니까?홍길동\n",
      "이긴 팀의 점수는 몇입니까?5\n",
      "진 팀의 점수는 몇입니까?2\n",
      "오늘 수원 에서 야구 경기가 열렸습니다.\n",
      "피닉스 와 레전드 은 치열한 공방전을 펼쳤습니다.\n",
      "홍길동 의 활약으로 피닉스 가 레전드 을 3 점 차로 이겼습니다.\n",
      "총 결과는 5 : 2 입니다.\n"
     ]
    }
   ],
   "source": [
    "where=input(\"경기장은 어디입니까?\")\n",
    "win_team=input(\"이긴 팀은 어디입니까?\")\n",
    "lose_team=input(\"진 팀은 어디입니까?\")\n",
    "who=input(\"우수선수는 누구입니까?\")\n",
    "score1=int(input(\"이긴 팀의 점수는 몇입니까?\"))\n",
    "score2=int(input(\"진 팀의 점수는 몇입니까?\"))\n",
    "print(\"오늘\",where,\"에서 야구 경기가 열렸습니다.\")\n",
    "print(win_team,\"와\",lose_team,\"은 치열한 공방전을 펼쳤습니다.\")\n",
    "print(who,\"의 활약으로\",win_team,\"가\",lose_team,\"을\",score1-score2,\"점 차로 이겼습니다.\")\n",
    "print(\"총 결과는\",score1,\":\",score2,\"입니다.\")"
   ]
  },
  {
   "cell_type": "code",
   "execution_count": 10,
   "id": "f7f70853",
   "metadata": {},
   "outputs": [
    {
     "name": "stdout",
     "output_type": "stream",
     "text": [
      "당신은 택시를 타려고 합니다.\n",
      "현재 얼마를 가지고 있습니까?: 500\n",
      "어디로 갈것입니까?: 수원\n",
      "당신은 택시를 타고 수원 (으)로 가려고 합니다.\n",
      "당신은 현재 500 원을 가지고 있습니다.\n",
      "택시기사님이 700 원을 거슬러 주어 잔돈은 -200 원이 남았습니다.\n"
     ]
    }
   ],
   "source": [
    "print(\"당신은 택시를 타려고 합니다.\")\n",
    "money=int(input(\"현재 얼마를 가지고 있습니까?: \"))\n",
    "where=input(\"어디로 갈것입니까?: \")\n",
    "a=700\n",
    "print(\"당신은 택시를 타고\", where,\"(으)로 가려고 합니다.\")\n",
    "print(\"당신은 현재\", money,\"원을 가지고 있습니다.\")\n",
    "print(\"택시기사님이\", a,\"원을 거슬러 주어 잔돈은\",money-a,\"원이 남았습니다.\")"
   ]
  },
  {
   "cell_type": "code",
   "execution_count": 15,
   "id": "024225ff",
   "metadata": {},
   "outputs": [
    {
     "name": "stdout",
     "output_type": "stream",
     "text": [
      "문자열 두 개를 입력하세요.: 5 2\n",
      "5\n",
      "2\n"
     ]
    }
   ],
   "source": [
    "a,b=input(\"문자열 두 개를 입력하세요.: \").split()\n",
    "\n",
    "print(a)\n",
    "print(b)"
   ]
  },
  {
   "cell_type": "code",
   "execution_count": 7,
   "id": "566e4c98",
   "metadata": {},
   "outputs": [
    {
     "name": "stdout",
     "output_type": "stream",
     "text": [
      "당신은 지금 얼마를 가지고 있나요?: 4000\n",
      "택시를 이용하실 수 없습니다.\n"
     ]
    }
   ],
   "source": [
    "money=int(input(\"당신은 지금 얼마를 가지고 있나요?: \" ))\n",
    "if money>5000:\n",
    "    print(\"택시를 이용하실 수 있습니다.\")\n",
    "else :\n",
    "    print(\"택시를 이용하실 수 없습니다.\")"
   ]
  },
  {
   "cell_type": "code",
   "execution_count": 8,
   "id": "f115c5fa",
   "metadata": {},
   "outputs": [
    {
     "name": "stdout",
     "output_type": "stream",
     "text": [
      "분자를 입력하시오: 5\n",
      "분모를 입력하시오: 2\n",
      "나눗셈의 몫 = 2\n",
      "나눗셈의 나머지 = 1\n"
     ]
    }
   ],
   "source": [
    "p = int(input(\"분자를 입력하시오: \"))\n",
    "q = int(input(\"분모를 입력하시오: \"))\n",
    "print(\"나눗셈의 몫 =\",p//q)\n",
    "print(\"나눗셈의 나머지 =\",p%q)"
   ]
  },
  {
   "cell_type": "code",
   "execution_count": 9,
   "id": "ddccc91d",
   "metadata": {},
   "outputs": [
    {
     "name": "stdout",
     "output_type": "stream",
     "text": [
      "정수를 입력하시오: 5\n",
      "1\n"
     ]
    }
   ],
   "source": [
    "number=int(input(\"정수를 입력하시오: \"))\n",
    "print(number%2) #0짝수, 1홀수"
   ]
  },
  {
   "cell_type": "code",
   "execution_count": 19,
   "id": "bad01082",
   "metadata": {},
   "outputs": [
    {
     "name": "stdout",
     "output_type": "stream",
     "text": [
      "시간(초)를 입력해주세요.: 60\n",
      "입력한 시간은  0 시간 1 분 0 초 입니다.\n"
     ]
    }
   ],
   "source": [
    "# 시간 구하기\n",
    "second=int(input(\"시간(초)를 입력해주세요.: \"))\n",
    "sec = second%60\n",
    "min_temp = second//60\n",
    "minute = min_temp%60\n",
    "hour = min_temp//60\n",
    "\n",
    "print(\"입력한 시간은 \", hour,\"시간\",minute,\"분\",sec,\"초 입니다.\")"
   ]
  },
  {
   "cell_type": "code",
   "execution_count": 60,
   "id": "99720165",
   "metadata": {},
   "outputs": [
    {
     "name": "stdout",
     "output_type": "stream",
     "text": [
      "자판기에 넣을 돈은 얼마입니까?: 5800\n",
      "<거스름돈>\n",
      "500원짜리 11 개\n",
      "100원짜리 3 개\n"
     ]
    }
   ],
   "source": [
    "# 자판기 거스름돈 구하기\n",
    "money=int(input(\"자판기에 넣을 돈은 얼마입니까?: \"))\n",
    "big=money//500\n",
    "small_temp=money%500\n",
    "small=small_temp//100\n",
    "print(\"<거스름돈>\\n500원짜리\", big,\"개\\n100원짜리\",small,\"개\")\n"
   ]
  },
  {
   "cell_type": "code",
   "execution_count": 37,
   "id": "20ba86c1",
   "metadata": {},
   "outputs": [
    {
     "name": "stdout",
     "output_type": "stream",
     "text": [
      "원금을 입력해주세요: 10000000\n",
      "이자율을 입력해주세요: 0.03\n",
      "기간을 입력해주세요: 5\n",
      "이자가 1592741 원 발생하였습니다.\n",
      "당신이 5 년 뒤에 받게될 총합계는 11592741 원입니다.\n"
     ]
    }
   ],
   "source": [
    "# 원리금\n",
    "money=int(input('원금을 입력해주세요: '))\n",
    "interest=float(input('이자율을 입력해주세요: '))\n",
    "year=int(input('기간을 입력해주세요: '))\n",
    "print(\"이자가\",round(money*(1+interest)**year)-money,\"원 발생하였습니다.\")\n",
    "print(\"당신이\", year,\"년 뒤에 받게될 총합계는\",round(money*(1+interest)**year),\"원입니다.\")"
   ]
  },
  {
   "cell_type": "code",
   "execution_count": 38,
   "id": "6f7ee688",
   "metadata": {},
   "outputs": [
    {
     "name": "stdout",
     "output_type": "stream",
     "text": [
      "직각 삼각형의 밑변의 길이를 입력하시오: 20\n",
      "직각 삼각형의 높이를 입력하시오: 30\n",
      "빗변은 36.05551275463989 입니다.\n"
     ]
    }
   ],
   "source": [
    "# 피타고라스 계산하기\n",
    "bottom = float(input(\"직각 삼각형의 밑변의 길이를 입력하시오: \"))\n",
    "height = float(input(\"직각 삼각형의 높이를 입력하시오: \"))\n",
    "hypotenuse = (bottom ** 2 + height ** 2)**0.5\n",
    "print(\"빗변은\", hypotenuse,\"입니다.\")"
   ]
  },
  {
   "cell_type": "code",
   "execution_count": 40,
   "id": "f406138e",
   "metadata": {},
   "outputs": [
    {
     "name": "stdout",
     "output_type": "stream",
     "text": [
      "화씨 온도를 입력해주세요: 60\n",
      "섭씨 온도는 15.555555555555555 입니다.\n"
     ]
    }
   ],
   "source": [
    "# 화씨 온도를 섭씨 온도로 변경해보기\n",
    "temp=float(input(\"화씨 온도를 입력해주세요: \"))\n",
    "print(\"섭씨 온도는\",(temp-32)*5/9,\"입니다.\")"
   ]
  },
  {
   "cell_type": "code",
   "execution_count": 43,
   "id": "b7984a75",
   "metadata": {},
   "outputs": [
    {
     "name": "stdout",
     "output_type": "stream",
     "text": [
      "화씨 온도를 입력해주세요: 60\n",
      "15.56도 입니다.\n"
     ]
    }
   ],
   "source": [
    "# 온도 변경 반올림\n",
    "fah = float(input(\"화씨 온도를 입력해주세요: \"))\n",
    "cel = (fah - 32)*5/9\n",
    "print(\"%0.2f도 입니다.\"%(cel))"
   ]
  },
  {
   "cell_type": "code",
   "execution_count": 45,
   "id": "1f27e322",
   "metadata": {},
   "outputs": [
    {
     "name": "stdout",
     "output_type": "stream",
     "text": [
      "몸무게를 입력해주세요: 50\n",
      "키를 입력해주세요: 160\n",
      "당신의 BMI는 0.001953125 입니다.\n"
     ]
    }
   ],
   "source": [
    "# 몸무게와 키를 입력받아 BMI 계산하기\n",
    "weight=int(input('몸무게를 입력해주세요: '))\n",
    "height=int(input('키를 입력해주세요: '))\n",
    "print(\"당신의 BMI는\",weight/(height**2),\"입니다.\")"
   ]
  },
  {
   "cell_type": "code",
   "execution_count": 54,
   "id": "83e1f7b4",
   "metadata": {},
   "outputs": [
    {
     "name": "stdout",
     "output_type": "stream",
     "text": [
      "1020:애국가 1021:블랙맘바 1022:피땀눈물\n",
      "노래를 선택해주십시오1022\n",
      "피땀눈물을 선택하셨습니다.\n"
     ]
    }
   ],
   "source": [
    "print(\"1020:애국가\",\"1021:블랙맘바\",\"1022:피땀눈물\")\n",
    "song=int(input(\"노래를 선택해주십시오\"))\n",
    "if song==1020:\n",
    "    print(\"애국가를 선택하셨습니다.\")\n",
    "elif song==1021:\n",
    "    print(\"블랙맘바를 선택하셨습니다.\")\n",
    "else:\n",
    "    print(\"피땀눈물을 선택하셨습니다.\")"
   ]
  },
  {
   "cell_type": "code",
   "execution_count": 65,
   "id": "acd0a930",
   "metadata": {},
   "outputs": [
    {
     "name": "stdout",
     "output_type": "stream",
     "text": [
      "사과먹자\n"
     ]
    }
   ],
   "source": [
    "apple=\"사과\"\n",
    "print(\"\"+apple+\"먹자\")"
   ]
  },
  {
   "cell_type": "code",
   "execution_count": 67,
   "id": "f505a0f9",
   "metadata": {},
   "outputs": [
    {
     "data": {
      "text/plain": [
       "300"
      ]
     },
     "execution_count": 67,
     "metadata": {},
     "output_type": "execute_result"
    }
   ],
   "source": [
    "num=200\n",
    "num+=100\n",
    "num"
   ]
  },
  {
   "cell_type": "code",
   "execution_count": 73,
   "id": "602f90ca",
   "metadata": {},
   "outputs": [
    {
     "data": {
      "text/plain": [
       "100"
      ]
     },
     "execution_count": 73,
     "metadata": {},
     "output_type": "execute_result"
    }
   ],
   "source": [
    "num=200\n",
    "num-=100\n",
    "num"
   ]
  },
  {
   "cell_type": "code",
   "execution_count": 74,
   "id": "749742e1",
   "metadata": {},
   "outputs": [
    {
     "data": {
      "text/plain": [
       "4000"
      ]
     },
     "execution_count": 74,
     "metadata": {},
     "output_type": "execute_result"
    }
   ],
   "source": [
    "num=200\n",
    "num*=20\n",
    "num"
   ]
  },
  {
   "cell_type": "code",
   "execution_count": 76,
   "id": "c239d4eb",
   "metadata": {},
   "outputs": [
    {
     "data": {
      "text/plain": [
       "100.0"
      ]
     },
     "execution_count": 76,
     "metadata": {},
     "output_type": "execute_result"
    }
   ],
   "source": [
    "num=200\n",
    "num/=2\n",
    "num"
   ]
  },
  {
   "cell_type": "code",
   "execution_count": 77,
   "id": "03d0c555",
   "metadata": {},
   "outputs": [
    {
     "data": {
      "text/plain": [
       "100"
      ]
     },
     "execution_count": 77,
     "metadata": {},
     "output_type": "execute_result"
    }
   ],
   "source": [
    "num=200\n",
    "num//=2\n",
    "num"
   ]
  },
  {
   "cell_type": "code",
   "execution_count": 78,
   "id": "eca2a4d5",
   "metadata": {},
   "outputs": [
    {
     "data": {
      "text/plain": [
       "2"
      ]
     },
     "execution_count": 78,
     "metadata": {},
     "output_type": "execute_result"
    }
   ],
   "source": [
    "num=200\n",
    "num%=3\n",
    "num"
   ]
  },
  {
   "cell_type": "code",
   "execution_count": 79,
   "id": "c6efa113",
   "metadata": {},
   "outputs": [
    {
     "data": {
      "text/plain": [
       "320000000000"
      ]
     },
     "execution_count": 79,
     "metadata": {},
     "output_type": "execute_result"
    }
   ],
   "source": [
    "num=200\n",
    "num**=5\n",
    "num"
   ]
  },
  {
   "cell_type": "code",
   "execution_count": 88,
   "id": "05d8671d",
   "metadata": {},
   "outputs": [
    {
     "name": "stdout",
     "output_type": "stream",
     "text": [
      "(1) A==B는 False\n",
      "(2) A!=B는 True\n",
      "(3) A>B는 False\n",
      "(4) A<B는 True\n",
      "(5) A>=B는 False\n",
      "(6) A<=B는 True\n"
     ]
    }
   ],
   "source": [
    "A=100\n",
    "B=200\n",
    "print(\"(1) A==B는\",A==B)\n",
    "print(\"(2) A!=B는\",A!=B)\n",
    "print(\"(3) A>B는\",A>B)\n",
    "print(\"(4) A<B는\",A<B)\n",
    "print(\"(5) A>=B는\",A>B)\n",
    "print(\"(6) A<=B는\",A<=B)"
   ]
  },
  {
   "cell_type": "code",
   "execution_count": 98,
   "id": "a727a8ba",
   "metadata": {},
   "outputs": [
    {
     "data": {
      "text/plain": [
       "True"
      ]
     },
     "execution_count": 98,
     "metadata": {},
     "output_type": "execute_result"
    }
   ],
   "source": [
    "A!=B & A<B"
   ]
  },
  {
   "cell_type": "code",
   "execution_count": 97,
   "id": "c53d370c",
   "metadata": {},
   "outputs": [
    {
     "data": {
      "text/plain": [
       "False"
      ]
     },
     "execution_count": 97,
     "metadata": {},
     "output_type": "execute_result"
    }
   ],
   "source": [
    "A!=B & A==B"
   ]
  },
  {
   "cell_type": "code",
   "execution_count": 96,
   "id": "0d27a11e",
   "metadata": {},
   "outputs": [
    {
     "data": {
      "text/plain": [
       "False"
      ]
     },
     "execution_count": 96,
     "metadata": {},
     "output_type": "execute_result"
    }
   ],
   "source": [
    "A==B | A!=B"
   ]
  },
  {
   "cell_type": "code",
   "execution_count": 94,
   "id": "953e116e",
   "metadata": {},
   "outputs": [
    {
     "data": {
      "text/plain": [
       "False"
      ]
     },
     "execution_count": 94,
     "metadata": {},
     "output_type": "execute_result"
    }
   ],
   "source": [
    "A>=B^A>B"
   ]
  },
  {
   "cell_type": "code",
   "execution_count": 106,
   "id": "e7d111d9",
   "metadata": {},
   "outputs": [
    {
     "data": {
      "text/plain": [
       "True"
      ]
     },
     "execution_count": 106,
     "metadata": {},
     "output_type": "execute_result"
    }
   ],
   "source": [
    "not A>B"
   ]
  },
  {
   "cell_type": "code",
   "execution_count": 107,
   "id": "63eaf989",
   "metadata": {},
   "outputs": [
    {
     "data": {
      "text/plain": [
       "'0b1001'"
      ]
     },
     "execution_count": 107,
     "metadata": {},
     "output_type": "execute_result"
    }
   ],
   "source": [
    "bin(9)"
   ]
  },
  {
   "cell_type": "code",
   "execution_count": 108,
   "id": "312b53b8",
   "metadata": {},
   "outputs": [
    {
     "data": {
      "text/plain": [
       "'0b1000'"
      ]
     },
     "execution_count": 108,
     "metadata": {},
     "output_type": "execute_result"
    }
   ],
   "source": [
    "bin(9&10)"
   ]
  },
  {
   "cell_type": "code",
   "execution_count": 109,
   "id": "aca02988",
   "metadata": {},
   "outputs": [
    {
     "data": {
      "text/plain": [
       "'0b1011'"
      ]
     },
     "execution_count": 109,
     "metadata": {},
     "output_type": "execute_result"
    }
   ],
   "source": [
    "bin(9|10)"
   ]
  },
  {
   "cell_type": "code",
   "execution_count": 110,
   "id": "42c96e42",
   "metadata": {},
   "outputs": [
    {
     "data": {
      "text/plain": [
       "'0b11'"
      ]
     },
     "execution_count": 110,
     "metadata": {},
     "output_type": "execute_result"
    }
   ],
   "source": [
    "bin(9^10)"
   ]
  },
  {
   "cell_type": "code",
   "execution_count": 113,
   "id": "44988632",
   "metadata": {},
   "outputs": [
    {
     "data": {
      "text/plain": [
       "'0b10010000000000'"
      ]
     },
     "execution_count": 113,
     "metadata": {},
     "output_type": "execute_result"
    }
   ],
   "source": [
    "bin(9<<10)"
   ]
  },
  {
   "cell_type": "code",
   "execution_count": 114,
   "id": "32a4d4ba",
   "metadata": {},
   "outputs": [
    {
     "data": {
      "text/plain": [
       "'0b0'"
      ]
     },
     "execution_count": 114,
     "metadata": {},
     "output_type": "execute_result"
    }
   ],
   "source": [
    "bin(9>>10)"
   ]
  },
  {
   "cell_type": "code",
   "execution_count": 119,
   "id": "c4a2e7b0",
   "metadata": {},
   "outputs": [
    {
     "name": "stdout",
     "output_type": "stream",
     "text": [
      "첫 번째 수를 입력하세요: 10\n",
      "두 번째 수를 입력하세요: 20\n",
      "세 번째 수를 입력하세요: 30\n",
      "평균=  20.0\n"
     ]
    }
   ],
   "source": [
    "x=int(input(\"첫 번째 수를 입력하세요: \"))\n",
    "y=int(input(\"두 번째 수를 입력하세요: \"))\n",
    "z=int(input(\"세 번째 수를 입력하세요: \"))\n",
    "\n",
    "avr=(x+y+z)/3\n",
    "print(\"평균 = \",avr)"
   ]
  },
  {
   "cell_type": "code",
   "execution_count": 121,
   "id": "2e27410e",
   "metadata": {},
   "outputs": [
    {
     "name": "stdout",
     "output_type": "stream",
     "text": [
      "세 정수를 입력하세요: 10 20 30\n",
      "평균=  20.0\n"
     ]
    }
   ],
   "source": [
    "x,y,z=map(int,input(\"세 정수를 입력하세요: \").split())\n",
    "avr=(x+y+z)/3\n",
    "print(\"평균 = \", avr)"
   ]
  },
  {
   "cell_type": "code",
   "execution_count": 124,
   "id": "33c223af",
   "metadata": {},
   "outputs": [
    {
     "name": "stdout",
     "output_type": "stream",
     "text": [
      "두 정수를 입력하세요: 2 3\n",
      "몇을 제곱할 것인가요?: 2\n",
      "25\n"
     ]
    }
   ],
   "source": [
    "x,y=map(int,input(\"두 정수를 입력하세요: \").split())\n",
    "plus=(x+y)\n",
    "z=int(input(\"몇을 제곱할 것인가요?: \"))\n",
    "print(plus**z)"
   ]
  },
  {
   "cell_type": "code",
   "execution_count": 125,
   "id": "195707aa",
   "metadata": {},
   "outputs": [
    {
     "name": "stdout",
     "output_type": "stream",
     "text": [
      "0.3865331254220693\n"
     ]
    }
   ],
   "source": [
    "import random\n",
    "temp = random.random()\n",
    "print(temp) # 0이상 1미만의 임의의 실수를 반환"
   ]
  },
  {
   "cell_type": "code",
   "execution_count": 127,
   "id": "8a33182b",
   "metadata": {},
   "outputs": [
    {
     "name": "stdout",
     "output_type": "stream",
     "text": [
      "3\n"
     ]
    }
   ],
   "source": [
    "temp=random.randint(1,7)\n",
    "print(temp) # 1이상 7이하 임의의 정수를 반환"
   ]
  },
  {
   "cell_type": "code",
   "execution_count": 128,
   "id": "f8800310",
   "metadata": {},
   "outputs": [
    {
     "name": "stdout",
     "output_type": "stream",
     "text": [
      "0\n"
     ]
    }
   ],
   "source": [
    "temp=random.randrange(7)\n",
    "print(temp) # 0이상 7미만 임의의 정수를 반환"
   ]
  },
  {
   "cell_type": "code",
   "execution_count": 129,
   "id": "5d16375b",
   "metadata": {},
   "outputs": [
    {
     "name": "stdout",
     "output_type": "stream",
     "text": [
      "4\n"
     ]
    }
   ],
   "source": [
    "temp=random.randrange(1,7)\n",
    "print(temp) # 0이상 7미만 임의의 정수를 반환"
   ]
  },
  {
   "cell_type": "code",
   "execution_count": 130,
   "id": "d429cc25",
   "metadata": {},
   "outputs": [
    {
     "name": "stdout",
     "output_type": "stream",
     "text": [
      "8\n"
     ]
    }
   ],
   "source": [
    "temp=random.randrange(0, 10, 2)\n",
    "print(temp) # 0이상 10미만 중 짝수를 반환"
   ]
  },
  {
   "cell_type": "code",
   "execution_count": 132,
   "id": "21503baa",
   "metadata": {},
   "outputs": [
    {
     "name": "stdout",
     "output_type": "stream",
     "text": [
      "[20, 10, 50, 40, 30]\n",
      "40\n"
     ]
    }
   ],
   "source": [
    "lst=[10,20,30,40,50] # list는 키워드이기 때문에 lst로 작성\n",
    "random.shuffle(lst)\n",
    "print(lst)\n",
    "\n",
    "print(random.choice(lst))"
   ]
  },
  {
   "cell_type": "code",
   "execution_count": 135,
   "id": "e6428879",
   "metadata": {},
   "outputs": [
    {
     "name": "stdout",
     "output_type": "stream",
     "text": [
      "반장을 뽑도록 하겠습니다.\n",
      "반장은 유리 입니다.\n"
     ]
    }
   ],
   "source": [
    "print(\"반장을 뽑도록 하겠습니다.\")\n",
    "lst=[\"철수\",\"유리\",\"맹구\",\"짱구\",\"훈이\"]\n",
    "cho=(random.choice(lst))\n",
    "print(\"반장은\",cho,\"입니다.\")"
   ]
  },
  {
   "cell_type": "code",
   "execution_count": null,
   "id": "e781db56",
   "metadata": {},
   "outputs": [],
   "source": []
  }
 ],
 "metadata": {
  "kernelspec": {
   "display_name": "Python 3 (ipykernel)",
   "language": "python",
   "name": "python3"
  },
  "language_info": {
   "codemirror_mode": {
    "name": "ipython",
    "version": 3
   },
   "file_extension": ".py",
   "mimetype": "text/x-python",
   "name": "python",
   "nbconvert_exporter": "python",
   "pygments_lexer": "ipython3",
   "version": "3.9.7"
  }
 },
 "nbformat": 4,
 "nbformat_minor": 5
}
