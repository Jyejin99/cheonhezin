{
 "cells": [
  {
   "cell_type": "code",
   "execution_count": 3,
   "id": "9feb555b",
   "metadata": {},
   "outputs": [
    {
     "name": "stdout",
     "output_type": "stream",
     "text": [
      "초를 입력해주세요: 2323423\n",
      "645 시간 23 분 43 초\n"
     ]
    }
   ],
   "source": [
    "second=int(input(\"초를 입력해주세요: \"))\n",
    "sec=second%60\n",
    "sec_temp=second//60\n",
    "minute=sec_temp%60\n",
    "hour=sec_temp//60\n",
    "print(hour,\"시간\",minute,\"분\",sec,\"초\")"
   ]
  },
  {
   "cell_type": "code",
   "execution_count": 4,
   "id": "2c079525",
   "metadata": {},
   "outputs": [
    {
     "name": "stdout",
     "output_type": "stream",
     "text": [
      "0.16360940835338755\n"
     ]
    }
   ],
   "source": [
    "import random\n",
    "temp = random.random()\n",
    "print(temp)"
   ]
  },
  {
   "cell_type": "code",
   "execution_count": 5,
   "id": "15f865fa",
   "metadata": {},
   "outputs": [
    {
     "name": "stdout",
     "output_type": "stream",
     "text": [
      "5\n"
     ]
    }
   ],
   "source": [
    "temp = random.randint(1,7)\n",
    "print(temp)"
   ]
  },
  {
   "cell_type": "code",
   "execution_count": 8,
   "id": "6971717d",
   "metadata": {},
   "outputs": [
    {
     "name": "stdout",
     "output_type": "stream",
     "text": [
      "짝궁을 뽑겠습니다.\n",
      "첫 번째 번호는 2 번입니다.\n",
      "두 번째 번호는 15 번입니다.\n"
     ]
    }
   ],
   "source": [
    "print(\"짝궁을 뽑겠습니다.\")\n",
    "first=random.randint(1,20)\n",
    "print(\"첫 번째 번호는\",first,\"번입니다.\")\n",
    "second=random.randint(1,20)\n",
    "print(\"두 번째 번호는\",second,\"번입니다.\")"
   ]
  },
  {
   "cell_type": "code",
   "execution_count": 10,
   "id": "d688c027",
   "metadata": {},
   "outputs": [
    {
     "name": "stdout",
     "output_type": "stream",
     "text": [
      "세 정수를 입력하세요: 2 5 8\n",
      "평균= 6.0\n"
     ]
    }
   ],
   "source": [
    "x,y,z=map(int,input(\"세 정수를 입력하세요: \").split())\n",
    "avr=(x*y+z)/3\n",
    "print(\"평균=\",avr)"
   ]
  },
  {
   "cell_type": "code",
   "execution_count": 16,
   "id": "2e1b8ed8",
   "metadata": {},
   "outputs": [
    {
     "name": "stdout",
     "output_type": "stream",
     "text": [
      "[20, 6, 19, 4, 1]\n"
     ]
    }
   ],
   "source": [
    "alist=[]\n",
    "for i in range(5):\n",
    "    z = random.randint(1,20)\n",
    "    while z in alist:\n",
    "        z= random.randint(1,20)\n",
    "    alist.append(z)\n",
    "print(alist)"
   ]
  },
  {
   "cell_type": "code",
   "execution_count": 19,
   "id": "0461bce8",
   "metadata": {},
   "outputs": [
    {
     "name": "stdout",
     "output_type": "stream",
     "text": [
      "점수를 입력하세요: 20\n"
     ]
    }
   ],
   "source": [
    "score = int(input(\"점수를 입력하세요: \"))\n",
    "if score >= 90:\n",
    "    print(\"축하합니다!\")\n",
    "    print(\"합격입니다!\")"
   ]
  },
  {
   "cell_type": "code",
   "execution_count": 21,
   "id": "90195aec",
   "metadata": {},
   "outputs": [
    {
     "name": "stdout",
     "output_type": "stream",
     "text": [
      "점수를 입력하세요: 50\n",
      "불합격입니다\n",
      "다시 도전하세요\n"
     ]
    }
   ],
   "source": [
    "score = int(input(\"점수를 입력하세요: \"))\n",
    "if score >= 90:\n",
    "    print(\"축하합니다!\")\n",
    "    print(\"합격입니다!\")\n",
    "else:\n",
    "    print(\"불합격입니다\")\n",
    "    print(\"다시 도전하세요\")"
   ]
  },
  {
   "cell_type": "code",
   "execution_count": 23,
   "id": "5c830434",
   "metadata": {},
   "outputs": [
    {
     "name": "stdout",
     "output_type": "stream",
     "text": [
      "숫자를 입력해주세요: 0\n",
      "x는 1보다 작습니다.\n"
     ]
    }
   ],
   "source": [
    "x=int(input(\"숫자를 입력해주세요: \"))\n",
    "if x>1:\n",
    "    print(\"x는 1보다 큽니다.\")\n",
    "else:\n",
    "    print(\"x는 1보다 작습니다.\")"
   ]
  },
  {
   "cell_type": "code",
   "execution_count": 29,
   "id": "18695f4f",
   "metadata": {},
   "outputs": [
    {
     "name": "stdout",
     "output_type": "stream",
     "text": [
      "현재 속도를 입력해주세요: 31\n",
      "과속입니다.\n"
     ]
    }
   ],
   "source": [
    "speed = int(input(\"현재 속도를 입력해주세요: \"))\n",
    "if speed>30:\n",
    "    print(\"과속입니다.\")\n",
    "else:\n",
    "    print(\"안전한 속도입니다.\")"
   ]
  },
  {
   "cell_type": "code",
   "execution_count": 30,
   "id": "4df17eaf",
   "metadata": {},
   "outputs": [
    {
     "name": "stdout",
     "output_type": "stream",
     "text": [
      "성적을 입력해주세요.60\n",
      "합격\n"
     ]
    }
   ],
   "source": [
    "#문제1\n",
    "score = int(input(\"성적을 입력해주세요.\"))\n",
    "if score>=60:\n",
    "    print(\"합격\")\n",
    "else:\n",
    "    print(\"불합격\")"
   ]
  },
  {
   "cell_type": "code",
   "execution_count": 33,
   "id": "1f623eed",
   "metadata": {},
   "outputs": [
    {
     "name": "stdout",
     "output_type": "stream",
     "text": [
      "정수를 입력해주세요: 2\n",
      "짝수\n"
     ]
    }
   ],
   "source": [
    "#문제2\n",
    "num = int(input(\"정수를 입력해주세요: \"))\n",
    "if num%2==1:\n",
    "    print(\"홀수\")\n",
    "else:\n",
    "    print(\"짝수\")"
   ]
  },
  {
   "cell_type": "code",
   "execution_count": 37,
   "id": "1e01297a",
   "metadata": {},
   "outputs": [
    {
     "name": "stdout",
     "output_type": "stream",
     "text": [
      "정수를 입력해주세요: 9\n",
      "양수입니다. 홀수입니다.\n"
     ]
    }
   ],
   "source": [
    "#문제3\n",
    "num = int(input(\"정수를 입력해주세요: \"))\n",
    "if num>0: # 조건문1\n",
    "    if num%2==1: # 조건문2\n",
    "        print(\"양수입니다. 홀수입니다.\") # 조건문1과 조건문2 둘 다 참일 경우\n",
    "    else :\n",
    "        print(\"양수입니다. 짝수입니다.\") # 조건문1은 참, 조건문2는 거짓일 경우\n",
    "else:\n",
    "    print(\"음수입니다.\") # 조건문 전부 거짓일 경우"
   ]
  },
  {
   "cell_type": "code",
   "execution_count": 42,
   "id": "adecb42e",
   "metadata": {},
   "outputs": [
    {
     "name": "stdout",
     "output_type": "stream",
     "text": [
      "0 : 뒷면이 나왔습니다. 패배입니다.\n"
     ]
    }
   ],
   "source": [
    "#문제4\n",
    "import random\n",
    "coin = random.randint(0,1)\n",
    "if coin==0:\n",
    "    print(coin,\": 뒷면이 나왔습니다. 패배입니다.\")\n",
    "else :\n",
    "    print(coin,\": 앞면이 나왔습니다. 승리입니다.\")"
   ]
  },
  {
   "cell_type": "code",
   "execution_count": 3,
   "id": "1c332da8",
   "metadata": {},
   "outputs": [
    {
     "name": "stdout",
     "output_type": "stream",
     "text": [
      "환영합니다 0\n",
      "환영합니다 1\n",
      "환영합니다 2\n",
      "환영합니다 3\n",
      "환영합니다 4\n",
      "환영합니다 5\n",
      "환영합니다 6\n",
      "환영합니다 7\n",
      "환영합니다 8\n",
      "환영합니다 9\n"
     ]
    }
   ],
   "source": [
    "#for문\n",
    "for i in range(10):\n",
    "    print('환영합니다',i)"
   ]
  },
  {
   "cell_type": "code",
   "execution_count": 2,
   "id": "5b7ec1b2",
   "metadata": {},
   "outputs": [
    {
     "name": "stdout",
     "output_type": "stream",
     "text": [
      "환영합니다. 0\n",
      "환영합니다. 1\n",
      "환영합니다. 2\n",
      "환영합니다. 3\n",
      "환영합니다. 4\n"
     ]
    }
   ],
   "source": [
    "#while문\n",
    "i=0\n",
    "while i<5:\n",
    "    print(\"환영합니다.\",i)\n",
    "    i+=1"
   ]
  },
  {
   "cell_type": "code",
   "execution_count": 24,
   "id": "956a691e",
   "metadata": {},
   "outputs": [
    {
     "name": "stdout",
     "output_type": "stream",
     "text": [
      "1\n",
      "2\n",
      "3\n",
      "4\n",
      "5\n"
     ]
    }
   ],
   "source": [
    "#문제1\n",
    "hint=[1,2,3,4,5]\n",
    "for t in hint:\n",
    "    print(t)"
   ]
  },
  {
   "cell_type": "code",
   "execution_count": 32,
   "id": "b2c8db09",
   "metadata": {},
   "outputs": [
    {
     "name": "stdout",
     "output_type": "stream",
     "text": [
      "h\n",
      "e\n",
      "l\n",
      "l\n",
      "o\n"
     ]
    }
   ],
   "source": [
    "#문제2\n",
    "hi=\"hello\"\n",
    "for i in hi:\n",
    "    print(i)"
   ]
  },
  {
   "cell_type": "code",
   "execution_count": 30,
   "id": "810ec99d",
   "metadata": {},
   "outputs": [
    {
     "name": "stdout",
     "output_type": "stream",
     "text": [
      "9 X 1 = 9\n",
      "9 X 2 = 18\n",
      "9 X 3 = 27\n",
      "9 X 4 = 36\n",
      "9 X 5 = 45\n",
      "9 X 6 = 54\n",
      "9 X 7 = 63\n",
      "9 X 8 = 72\n",
      "9 X 9 = 81\n"
     ]
    }
   ],
   "source": [
    "#문제3\n",
    "num=9\n",
    "for z in range(1,10):\n",
    "    print(\"9 X\",z,\"=\",num*z)"
   ]
  },
  {
   "cell_type": "code",
   "execution_count": 29,
   "id": "2db19d14",
   "metadata": {},
   "outputs": [
    {
     "name": "stdout",
     "output_type": "stream",
     "text": [
      "블랙핑크\n",
      "잇지\n",
      "방탄소년단\n",
      "아이유\n",
      "에스파\n"
     ]
    }
   ],
   "source": [
    "#문제4\n",
    "singer=['블랙핑크','잇지','방탄소년단','아이유','에스파']\n",
    "for i in singer:\n",
    "    print(i)"
   ]
  },
  {
   "cell_type": "code",
   "execution_count": 43,
   "id": "4f9fa181",
   "metadata": {},
   "outputs": [
    {
     "name": "stdout",
     "output_type": "stream",
     "text": [
      "1 X 1 = 1\n",
      "1 X 2 = 2\n",
      "1 X 3 = 3\n",
      "1 X 4 = 4\n",
      "1 X 5 = 5\n",
      "1 X 6 = 6\n",
      "1 X 7 = 7\n",
      "1 X 8 = 8\n",
      "1 X 9 = 9\n",
      "2 X 1 = 2\n",
      "2 X 2 = 4\n",
      "2 X 3 = 6\n",
      "2 X 4 = 8\n",
      "2 X 5 = 10\n",
      "2 X 6 = 12\n",
      "2 X 7 = 14\n",
      "2 X 8 = 16\n",
      "2 X 9 = 18\n",
      "3 X 1 = 3\n",
      "3 X 2 = 6\n",
      "3 X 3 = 9\n",
      "3 X 4 = 12\n",
      "3 X 5 = 15\n",
      "3 X 6 = 18\n",
      "3 X 7 = 21\n",
      "3 X 8 = 24\n",
      "3 X 9 = 27\n"
     ]
    }
   ],
   "source": [
    "i=0\n",
    "while i<3:\n",
    "    i+=1\n",
    "    for z in range(1,10):\n",
    "        print(i,\"X\",z,\"=\",i*z)"
   ]
  },
  {
   "cell_type": "code",
   "execution_count": 44,
   "id": "8b201717",
   "metadata": {},
   "outputs": [
    {
     "name": "stdout",
     "output_type": "stream",
     "text": [
      "9 X 1 = 9\n",
      "9 X 2 = 18\n",
      "9 X 3 = 27\n",
      "9 X 4 = 36\n",
      "9 X 5 = 45\n",
      "9 X 6 = 54\n",
      "9 X 7 = 63\n",
      "9 X 8 = 72\n"
     ]
    }
   ],
   "source": [
    "lst=list(range(1,9))\n",
    "for z in lst:\n",
    "    print(\"9 X\",z,\"=\",9*z)"
   ]
  },
  {
   "cell_type": "code",
   "execution_count": 48,
   "id": "452e4f38",
   "metadata": {},
   "outputs": [
    {
     "name": "stdout",
     "output_type": "stream",
     "text": [
      "10 - 1 = 9\n",
      "10 - 2 = 8\n",
      "10 - 3 = 7\n",
      "10 - 4 = 6\n",
      "10 - 5 = 5\n",
      "10 - 6 = 4\n",
      "10 - 7 = 3\n",
      "10 - 8 = 2\n",
      "10 - 9 = 1\n"
     ]
    }
   ],
   "source": [
    "num=10\n",
    "for i in range(1,10):\n",
    "    print(num,\"-\",i,\"=\",num-i)"
   ]
  },
  {
   "cell_type": "code",
   "execution_count": 55,
   "id": "7a87c229",
   "metadata": {},
   "outputs": [
    {
     "name": "stdout",
     "output_type": "stream",
     "text": [
      "10\n",
      "9\n",
      "8\n",
      "7\n",
      "6\n",
      "5\n",
      "4\n",
      "3\n",
      "2\n",
      "1\n"
     ]
    }
   ],
   "source": [
    "for i in range(10,0,-1):\n",
    "    print(i)"
   ]
  },
  {
   "cell_type": "code",
   "execution_count": null,
   "id": "a6203534",
   "metadata": {},
   "outputs": [],
   "source": []
  }
 ],
 "metadata": {
  "kernelspec": {
   "display_name": "Python 3 (ipykernel)",
   "language": "python",
   "name": "python3"
  },
  "language_info": {
   "codemirror_mode": {
    "name": "ipython",
    "version": 3
   },
   "file_extension": ".py",
   "mimetype": "text/x-python",
   "name": "python",
   "nbconvert_exporter": "python",
   "pygments_lexer": "ipython3",
   "version": "3.9.7"
  }
 },
 "nbformat": 4,
 "nbformat_minor": 5
}
