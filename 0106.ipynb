{
 "cells": [
  {
   "cell_type": "code",
   "execution_count": 3,
   "id": "1644587d",
   "metadata": {},
   "outputs": [
    {
     "name": "stdout",
     "output_type": "stream",
     "text": [
      "9 X 1 = 9\n",
      "9 X 2 = 18\n",
      "9 X 3 = 27\n",
      "9 X 4 = 36\n",
      "9 X 5 = 45\n",
      "9 X 6 = 54\n",
      "9 X 7 = 63\n",
      "9 X 8 = 72\n",
      "9 X 9 = 81\n"
     ]
    }
   ],
   "source": [
    "# while문을 사용하여 9단을 만들어보자\n",
    "i=1\n",
    "while i<10:\n",
    "    print(\"9 X\",i,\"=\",9*i)\n",
    "    i+=1"
   ]
  },
  {
   "cell_type": "code",
   "execution_count": 10,
   "id": "46a6e8f4",
   "metadata": {},
   "outputs": [
    {
     "name": "stdout",
     "output_type": "stream",
     "text": [
      "2 X 1 = 2\n",
      "2 X 2 = 4\n",
      "2 X 3 = 6\n",
      "2 X 4 = 8\n",
      "2 X 5 = 10\n",
      "2 X 6 = 12\n",
      "2 X 7 = 14\n",
      "2 X 8 = 16\n",
      "2 X 9 = 18\n",
      "3 X 1 = 3\n",
      "3 X 2 = 6\n",
      "3 X 3 = 9\n",
      "3 X 4 = 12\n",
      "3 X 5 = 15\n",
      "3 X 6 = 18\n",
      "3 X 7 = 21\n",
      "3 X 8 = 24\n",
      "3 X 9 = 27\n",
      "4 X 1 = 4\n",
      "4 X 2 = 8\n",
      "4 X 3 = 12\n",
      "4 X 4 = 16\n",
      "4 X 5 = 20\n",
      "4 X 6 = 24\n",
      "4 X 7 = 28\n",
      "4 X 8 = 32\n",
      "4 X 9 = 36\n"
     ]
    }
   ],
   "source": [
    "# while문 구구단\n",
    "i=2\n",
    "num=1\n",
    "while i<5:\n",
    "    for num in range(1,10):\n",
    "        print(i,\"X\",num,\"=\",i*num)\n",
    "    i+=1"
   ]
  },
  {
   "cell_type": "code",
   "execution_count": 20,
   "id": "d0bf34e6",
   "metadata": {},
   "outputs": [
    {
     "name": "stdout",
     "output_type": "stream",
     "text": [
      "서브웨이 가능한 조합\n",
      "호밀빵 + 호밀빵 + 양상추 + 마요네즈\n",
      "호밀빵 + 호밀빵 + 양상추 + 허니 머스타드\n",
      "호밀빵 + 호밀빵 + 양상추 + 칠리\n",
      "호밀빵 + 호밀빵 + 토마토 + 마요네즈\n",
      "호밀빵 + 호밀빵 + 토마토 + 허니 머스타드\n",
      "호밀빵 + 호밀빵 + 토마토 + 칠리\n",
      "호밀빵 + 호밀빵 + 오이 + 마요네즈\n",
      "호밀빵 + 호밀빵 + 오이 + 허니 머스타드\n",
      "호밀빵 + 호밀빵 + 오이 + 칠리\n",
      "호밀빵 + 위트 + 양상추 + 마요네즈\n",
      "호밀빵 + 위트 + 양상추 + 허니 머스타드\n",
      "호밀빵 + 위트 + 양상추 + 칠리\n",
      "호밀빵 + 위트 + 토마토 + 마요네즈\n",
      "호밀빵 + 위트 + 토마토 + 허니 머스타드\n",
      "호밀빵 + 위트 + 토마토 + 칠리\n",
      "호밀빵 + 위트 + 오이 + 마요네즈\n",
      "호밀빵 + 위트 + 오이 + 허니 머스타드\n",
      "호밀빵 + 위트 + 오이 + 칠리\n",
      "호밀빵 + 화이트 + 양상추 + 마요네즈\n",
      "호밀빵 + 화이트 + 양상추 + 허니 머스타드\n",
      "호밀빵 + 화이트 + 양상추 + 칠리\n",
      "호밀빵 + 화이트 + 토마토 + 마요네즈\n",
      "호밀빵 + 화이트 + 토마토 + 허니 머스타드\n",
      "호밀빵 + 화이트 + 토마토 + 칠리\n",
      "호밀빵 + 화이트 + 오이 + 마요네즈\n",
      "호밀빵 + 화이트 + 오이 + 허니 머스타드\n",
      "호밀빵 + 화이트 + 오이 + 칠리\n",
      "위트 + 호밀빵 + 양상추 + 마요네즈\n",
      "위트 + 호밀빵 + 양상추 + 허니 머스타드\n",
      "위트 + 호밀빵 + 양상추 + 칠리\n",
      "위트 + 호밀빵 + 토마토 + 마요네즈\n",
      "위트 + 호밀빵 + 토마토 + 허니 머스타드\n",
      "위트 + 호밀빵 + 토마토 + 칠리\n",
      "위트 + 호밀빵 + 오이 + 마요네즈\n",
      "위트 + 호밀빵 + 오이 + 허니 머스타드\n",
      "위트 + 호밀빵 + 오이 + 칠리\n",
      "위트 + 위트 + 양상추 + 마요네즈\n",
      "위트 + 위트 + 양상추 + 허니 머스타드\n",
      "위트 + 위트 + 양상추 + 칠리\n",
      "위트 + 위트 + 토마토 + 마요네즈\n",
      "위트 + 위트 + 토마토 + 허니 머스타드\n",
      "위트 + 위트 + 토마토 + 칠리\n",
      "위트 + 위트 + 오이 + 마요네즈\n",
      "위트 + 위트 + 오이 + 허니 머스타드\n",
      "위트 + 위트 + 오이 + 칠리\n",
      "위트 + 화이트 + 양상추 + 마요네즈\n",
      "위트 + 화이트 + 양상추 + 허니 머스타드\n",
      "위트 + 화이트 + 양상추 + 칠리\n",
      "위트 + 화이트 + 토마토 + 마요네즈\n",
      "위트 + 화이트 + 토마토 + 허니 머스타드\n",
      "위트 + 화이트 + 토마토 + 칠리\n",
      "위트 + 화이트 + 오이 + 마요네즈\n",
      "위트 + 화이트 + 오이 + 허니 머스타드\n",
      "위트 + 화이트 + 오이 + 칠리\n",
      "화이트 + 호밀빵 + 양상추 + 마요네즈\n",
      "화이트 + 호밀빵 + 양상추 + 허니 머스타드\n",
      "화이트 + 호밀빵 + 양상추 + 칠리\n",
      "화이트 + 호밀빵 + 토마토 + 마요네즈\n",
      "화이트 + 호밀빵 + 토마토 + 허니 머스타드\n",
      "화이트 + 호밀빵 + 토마토 + 칠리\n",
      "화이트 + 호밀빵 + 오이 + 마요네즈\n",
      "화이트 + 호밀빵 + 오이 + 허니 머스타드\n",
      "화이트 + 호밀빵 + 오이 + 칠리\n",
      "화이트 + 위트 + 양상추 + 마요네즈\n",
      "화이트 + 위트 + 양상추 + 허니 머스타드\n",
      "화이트 + 위트 + 양상추 + 칠리\n",
      "화이트 + 위트 + 토마토 + 마요네즈\n",
      "화이트 + 위트 + 토마토 + 허니 머스타드\n",
      "화이트 + 위트 + 토마토 + 칠리\n",
      "화이트 + 위트 + 오이 + 마요네즈\n",
      "화이트 + 위트 + 오이 + 허니 머스타드\n",
      "화이트 + 위트 + 오이 + 칠리\n",
      "화이트 + 화이트 + 양상추 + 마요네즈\n",
      "화이트 + 화이트 + 양상추 + 허니 머스타드\n",
      "화이트 + 화이트 + 양상추 + 칠리\n",
      "화이트 + 화이트 + 토마토 + 마요네즈\n",
      "화이트 + 화이트 + 토마토 + 허니 머스타드\n",
      "화이트 + 화이트 + 토마토 + 칠리\n",
      "화이트 + 화이트 + 오이 + 마요네즈\n",
      "화이트 + 화이트 + 오이 + 허니 머스타드\n",
      "화이트 + 화이트 + 오이 + 칠리\n",
      "--------------------\n",
      "<서브웨이 추천 목록>\n",
      "화이트 + 닭가슴살 + 양상추 + 마요네즈\n",
      "호밀빵 + 소시지 + 양상추 + 마요네즈\n",
      "화이트 + 미트볼 + 토마토 + 마요네즈\n",
      "호밀빵 + 미트볼 + 토마토 + 마요네즈\n",
      "위트 + 닭가슴살 + 토마토 + 칠리\n",
      "호밀빵 + 미트볼 + 오이 + 칠리\n",
      "화이트 + 닭가슴살 + 토마토 + 마요네즈\n",
      "화이트 + 소시지 + 양상추 + 칠리\n",
      "위트 + 미트볼 + 양상추 + 칠리\n"
     ]
    }
   ],
   "source": [
    "breads = [\"호밀빵\",\"위트\",\"화이트\"]\n",
    "meats = [\"미트볼\",\"소시지\",\"닭가슴살\"]\n",
    "vegis = [\"양상추\",\"토마토\",\"오이\"]\n",
    "sauces = [\"마요네즈\",\"허니 머스타드\",\"칠리\"]\n",
    "\n",
    "print('서브웨이 가능한 조합')\n",
    "for b in breads:\n",
    "    for m in breads:\n",
    "        for v in vegis:\n",
    "            for s in sauces:\n",
    "                print(b + \" + \" + m + \" + \" + v + \" + \" + s)\n",
    "                \n",
    "import random\n",
    "print('-'*20)\n",
    "print('<서브웨이 추천 목록>')\n",
    "i=1\n",
    "while i<10:\n",
    "    breads_c=random.choice(breads)\n",
    "    meats_c=random.choice(meats)\n",
    "    vegis_c=random.choice(vegis)\n",
    "    sauces_c=random.choice(sauces)\n",
    "    i+=1\n",
    "    print(breads_c + \" + \" + meats_c + \" + \" + vegis_c + \" + \" + sauces_c)"
   ]
  },
  {
   "cell_type": "code",
   "execution_count": 16,
   "id": "a3957f11",
   "metadata": {},
   "outputs": [
    {
     "name": "stdout",
     "output_type": "stream",
     "text": [
      "<서브웨이 추천 목록>\n",
      "호밀빵 + 닭가슴살 + 토마토 + 허니 머스타드\n"
     ]
    }
   ],
   "source": [
    "count= 0\n",
    "breads = [\"호밀빵\",\"위트\",\"화이트\"]\n",
    "meats = [\"미트볼\",\"소시지\",\"닭가슴살\"]\n",
    "vegis = [\"양상추\",\"토마토\",\"오이\"]\n",
    "sauces = [\"마요네즈\",\"허니 머스타드\",\"칠리\"]\n",
    "                \n",
    "import random as rd\n",
    "a=rd.randint(0,3**4)\n",
    "print('<서브웨이 추천 목록>')\n",
    "for b in breads:\n",
    "    for m in meats:\n",
    "        for v in vegis:\n",
    "            for s in sauces:\n",
    "                if a==count: # a숫자와 동일해질때까지 count가 증가함\n",
    "                    print(b + \" + \" + m + \" + \" + v + \" + \" + s)\n",
    "                count+=1"
   ]
  },
  {
   "cell_type": "code",
   "execution_count": 17,
   "id": "723ba14a",
   "metadata": {},
   "outputs": [
    {
     "data": {
      "text/plain": [
       "'hellopython!'"
      ]
     },
     "execution_count": 17,
     "metadata": {},
     "output_type": "execute_result"
    }
   ],
   "source": [
    "'{}python!'.format('hello')"
   ]
  },
  {
   "cell_type": "code",
   "execution_count": 20,
   "id": "9627704f",
   "metadata": {},
   "outputs": [
    {
     "data": {
      "text/plain": [
       "'브브걸스에서는 꼬북좌과 메보좌과 왕눈좌와 단발좌이 있다'"
      ]
     },
     "execution_count": 20,
     "metadata": {},
     "output_type": "execute_result"
    }
   ],
   "source": [
    "'브브걸스에서는 {0}과 {1}과 {2}와 {3}이 있다'.format('꼬북좌','메보좌','왕눈좌','단발좌')"
   ]
  },
  {
   "cell_type": "code",
   "execution_count": null,
   "id": "ffb880e1",
   "metadata": {},
   "outputs": [],
   "source": []
  }
 ],
 "metadata": {
  "kernelspec": {
   "display_name": "Python 3 (ipykernel)",
   "language": "python",
   "name": "python3"
  },
  "language_info": {
   "codemirror_mode": {
    "name": "ipython",
    "version": 3
   },
   "file_extension": ".py",
   "mimetype": "text/x-python",
   "name": "python",
   "nbconvert_exporter": "python",
   "pygments_lexer": "ipython3",
   "version": "3.9.7"
  }
 },
 "nbformat": 4,
 "nbformat_minor": 5
}
